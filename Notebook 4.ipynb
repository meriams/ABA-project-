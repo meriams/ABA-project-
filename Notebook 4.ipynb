{
 "cells": [
  {
   "cell_type": "markdown",
   "id": "0a2c7674",
   "metadata": {
    "id": "51ff958f"
   },
   "source": [
    "# Combing satelitte photos with historical weather data"
   ]
  },
  {
   "cell_type": "markdown",
   "id": "d4702353",
   "metadata": {},
   "source": [
    "Next step it combine different types of data to create another kind of model. The first model could asses the generel risk an area has of wildfire in next period of months. It could also be interesting to get an understanding weather an area is in risk of wildfire in the next month. Here the satellite photos are combined with historical weather data for the month before at the closest weather station."
   ]
  },
  {
   "cell_type": "code",
   "execution_count": 1,
   "id": "380192e1",
   "metadata": {},
   "outputs": [],
   "source": [
    "# Packages:\n",
    "import os\n",
    "import numpy as np\n",
    "import tensorflow as tf\n",
    "from tensorflow.keras.applications.resnet50 import ResNet50\n",
    "from tensorflow.keras.layers import Flatten, Dense, Dropout\n",
    "from tensorflow.keras.applications.inception_v3 import InceptionV3\n",
    "from tensorflow.keras import layers\n",
    "from tensorflow.keras import models\n",
    "from tensorflow.keras import optimizers\n",
    "from tensorflow.keras import regularizers\n",
    "import matplotlib.pyplot as plt\n",
    "from tensorflow.keras.preprocessing.image import ImageDataGenerator\n",
    "\n",
    "\n",
    "import numpy as np\n",
    "import pandas as pd\n",
    "import os\n"
   ]
  },
  {
   "cell_type": "markdown",
   "id": "52e3c659",
   "metadata": {},
   "source": [
    "## Weather dataset"
   ]
  },
  {
   "cell_type": "markdown",
   "id": "65689381",
   "metadata": {},
   "source": [
    "First the weather dataset should de downloaded and preprocces for modelling."
   ]
  },
  {
   "cell_type": "code",
   "execution_count": 2,
   "id": "4b6c77ef",
   "metadata": {},
   "outputs": [],
   "source": [
    "import math \n",
    "from dateutil.relativedelta import relativedelta\n",
    "from datetime import datetime"
   ]
  },
  {
   "cell_type": "code",
   "execution_count": 3,
   "id": "060d0532",
   "metadata": {},
   "outputs": [
    {
     "data": {
      "text/html": [
       "<div>\n",
       "<style scoped>\n",
       "    .dataframe tbody tr th:only-of-type {\n",
       "        vertical-align: middle;\n",
       "    }\n",
       "\n",
       "    .dataframe tbody tr th {\n",
       "        vertical-align: top;\n",
       "    }\n",
       "\n",
       "    .dataframe thead th {\n",
       "        text-align: right;\n",
       "    }\n",
       "</style>\n",
       "<table border=\"1\" class=\"dataframe\">\n",
       "  <thead>\n",
       "    <tr style=\"text-align: right;\">\n",
       "      <th></th>\n",
       "      <th>Low</th>\n",
       "      <th>High</th>\n",
       "      <th>Rain</th>\n",
       "      <th>Month/Year</th>\n",
       "      <th>City</th>\n",
       "      <th>Lat</th>\n",
       "      <th>Long</th>\n",
       "    </tr>\n",
       "  </thead>\n",
       "  <tbody>\n",
       "    <tr>\n",
       "      <th>0</th>\n",
       "      <td>41.4</td>\n",
       "      <td>50.2</td>\n",
       "      <td>7.58</td>\n",
       "      <td>January 2020</td>\n",
       "      <td>Portland</td>\n",
       "      <td>45.53</td>\n",
       "      <td>-122.69</td>\n",
       "    </tr>\n",
       "    <tr>\n",
       "      <th>1</th>\n",
       "      <td>36</td>\n",
       "      <td>51.9</td>\n",
       "      <td>1.55</td>\n",
       "      <td>February 2020</td>\n",
       "      <td>Portland</td>\n",
       "      <td>45.53</td>\n",
       "      <td>-122.69</td>\n",
       "    </tr>\n",
       "    <tr>\n",
       "      <th>2</th>\n",
       "      <td>38.2</td>\n",
       "      <td>54.6</td>\n",
       "      <td>2.43</td>\n",
       "      <td>March 2020</td>\n",
       "      <td>Portland</td>\n",
       "      <td>45.53</td>\n",
       "      <td>-122.69</td>\n",
       "    </tr>\n",
       "    <tr>\n",
       "      <th>3</th>\n",
       "      <td>44.1</td>\n",
       "      <td>64.9</td>\n",
       "      <td>0.79</td>\n",
       "      <td>April 2020</td>\n",
       "      <td>Portland</td>\n",
       "      <td>45.53</td>\n",
       "      <td>-122.69</td>\n",
       "    </tr>\n",
       "    <tr>\n",
       "      <th>4</th>\n",
       "      <td>51</td>\n",
       "      <td>69.7</td>\n",
       "      <td>22.1</td>\n",
       "      <td>May 2020</td>\n",
       "      <td>Portland</td>\n",
       "      <td>45.53</td>\n",
       "      <td>-122.69</td>\n",
       "    </tr>\n",
       "    <tr>\n",
       "      <th>...</th>\n",
       "      <td>...</td>\n",
       "      <td>...</td>\n",
       "      <td>...</td>\n",
       "      <td>...</td>\n",
       "      <td>...</td>\n",
       "      <td>...</td>\n",
       "      <td>...</td>\n",
       "    </tr>\n",
       "    <tr>\n",
       "      <th>463</th>\n",
       "      <td>41.6</td>\n",
       "      <td>95.4</td>\n",
       "      <td>0.06</td>\n",
       "      <td>August 2019</td>\n",
       "      <td>Princeton</td>\n",
       "      <td>42.82</td>\n",
       "      <td>-118.35</td>\n",
       "    </tr>\n",
       "    <tr>\n",
       "      <th>464</th>\n",
       "      <td>56.3</td>\n",
       "      <td>57.2</td>\n",
       "      <td>0.22</td>\n",
       "      <td>September 2019</td>\n",
       "      <td>Princeton</td>\n",
       "      <td>42.82</td>\n",
       "      <td>-118.35</td>\n",
       "    </tr>\n",
       "    <tr>\n",
       "      <th>465</th>\n",
       "      <td>45.4</td>\n",
       "      <td>69.1</td>\n",
       "      <td>0.13</td>\n",
       "      <td>October 2019</td>\n",
       "      <td>Princeton</td>\n",
       "      <td>42.82</td>\n",
       "      <td>-118.35</td>\n",
       "    </tr>\n",
       "    <tr>\n",
       "      <th>466</th>\n",
       "      <td>37.4</td>\n",
       "      <td>45.4</td>\n",
       "      <td>0.18</td>\n",
       "      <td>November 2019</td>\n",
       "      <td>Princeton</td>\n",
       "      <td>42.82</td>\n",
       "      <td>-118.35</td>\n",
       "    </tr>\n",
       "    <tr>\n",
       "      <th>467</th>\n",
       "      <td>19.7</td>\n",
       "      <td>55.7</td>\n",
       "      <td>0.25</td>\n",
       "      <td>December 2019</td>\n",
       "      <td>Princeton</td>\n",
       "      <td>42.82</td>\n",
       "      <td>-118.35</td>\n",
       "    </tr>\n",
       "  </tbody>\n",
       "</table>\n",
       "<p>468 rows × 7 columns</p>\n",
       "</div>"
      ],
      "text/plain": [
       "      Low  High  Rain      Month/Year       City    Lat     Long\n",
       "0    41.4  50.2  7.58    January 2020   Portland  45.53  -122.69\n",
       "1      36  51.9  1.55   February 2020   Portland  45.53  -122.69\n",
       "2    38.2  54.6  2.43      March 2020   Portland  45.53  -122.69\n",
       "3    44.1  64.9  0.79      April 2020   Portland  45.53  -122.69\n",
       "4      51  69.7  22.1        May 2020   Portland  45.53  -122.69\n",
       "..    ...   ...   ...             ...        ...    ...      ...\n",
       "463  41.6  95.4  0.06     August 2019  Princeton  42.82  -118.35\n",
       "464  56.3  57.2  0.22  September 2019  Princeton  42.82  -118.35\n",
       "465  45.4  69.1  0.13    October 2019  Princeton  42.82  -118.35\n",
       "466  37.4  45.4  0.18   November 2019  Princeton  42.82  -118.35\n",
       "467  19.7  55.7  0.25   December 2019  Princeton  42.82  -118.35\n",
       "\n",
       "[468 rows x 7 columns]"
      ]
     },
     "execution_count": 3,
     "metadata": {},
     "output_type": "execute_result"
    }
   ],
   "source": [
    "df = pd.read_csv('https://raw.githubusercontent.com/meriams/ABA-project-/main/weather2.csv', sep=';')\n",
    "df = df.replace(',', '.', regex=True)\n",
    "\n",
    "base_date = datetime(1899, 12, 30)  # Excel date 0 is 1900-01-01\n",
    "excel_dates = df['Month/Year']\n",
    "python_dates = pd.to_timedelta(excel_dates, unit='d') + base_date\n",
    "df['Month/Year'] = python_dates.apply(lambda x: x.strftime('%B %Y'))\n",
    "climateData = df\n",
    "climateData"
   ]
  },
  {
   "cell_type": "markdown",
   "id": "1185e19c",
   "metadata": {},
   "source": [
    "## Creating dataset for the model"
   ]
  },
  {
   "cell_type": "markdown",
   "id": "79d4ffc0",
   "metadata": {},
   "source": [
    "Next the satelitte photos for fire and no fire should be split into training, validation and test as the other models. Arrays for the weather data is also created in these steps."
   ]
  },
  {
   "cell_type": "markdown",
   "id": "66efbdaf",
   "metadata": {},
   "source": [
    "### Fire"
   ]
  },
  {
   "cell_type": "code",
   "execution_count": 4,
   "id": "928df8de",
   "metadata": {},
   "outputs": [],
   "source": [
    "fire = pd.read_csv('https://raw.githubusercontent.com/meriams/ABA-project-/main/Oregon_data.csv')\n",
    "fire.dropna(subset=['Long_DD'], inplace=True)\n",
    "fire.dropna(subset=['Lat_DD'], inplace=True)"
   ]
  },
  {
   "cell_type": "code",
   "execution_count": 5,
   "id": "e81ef251",
   "metadata": {},
   "outputs": [],
   "source": [
    "def closest_station(lat, long):\n",
    "    distPortland = math.sqrt((45.53-lat)**2 + (-122.69-long)**2)\n",
    "    distEugune = math.sqrt((44.08-lat)**2 + (-123.08-long)**2)\n",
    "    distPrinceton = math.sqrt((42.82-lat)**2 + (-118.35-long)**2)\n",
    "    \n",
    "    if distPortland < distEugune and distPortland < distPrinceton:\n",
    "        return 'Portland'\n",
    "    elif distEugune < distPortland and distEugune < distPrinceton:\n",
    "        return 'Eugune'\n",
    "    else:\n",
    "        return 'Princeton'"
   ]
  },
  {
   "cell_type": "markdown",
   "id": "acdf5536",
   "metadata": {},
   "source": [
    "To distinguish the models and create value for the weather data, the same satelitte photo is added multiple times with different historical weather and whether there was a fire in the next months. This means that the same satelitte photo will have different labels so the model have to distinguish bewteen these based on the historical weather data."
   ]
  },
  {
   "cell_type": "code",
   "execution_count": 7,
   "id": "1e062429",
   "metadata": {},
   "outputs": [],
   "source": [
    "folder_path_fire = \"fire\"\n",
    "\n",
    "# Initialize lists to store the data\n",
    "images_fire = []\n",
    "labels_fire = []\n",
    "weather_fire = []\n",
    "\n",
    "\n",
    "\n",
    "# Loop through all the PNG files in the folder\n",
    "for filename in os.listdir(folder_path_fire):\n",
    "    if filename.endswith('.png'):\n",
    "        spot = filename[:-4]\n",
    "        try:\n",
    "            img = f'{folder_path_fire}/{filename}'\n",
    "            image = tf.keras.preprocessing.image.load_img(img, target_size=(224, 224))\n",
    "            img_array = tf.keras.preprocessing.image.img_to_array(image)\n",
    "\n",
    "            date_string = fire.CreationDate[fire.FullFireNumber == spot].iloc[0]\n",
    "            datetime_obj = datetime.strptime(date_string, '%m/%d/%Y %I:%M:%S %p')\n",
    "            previous_month = datetime_obj - relativedelta(months=1)\n",
    "            date = previous_month.strftime('%B %Y') # Getting the date from the month before fire\n",
    "            lat = fire.Lat_DD[fire.FullFireNumber == spot].iloc[0]\n",
    "            long = fire.Long_DD[fire.FullFireNumber == spot].iloc[0]\n",
    "            station = closest_station(lat, long)\n",
    "\n",
    "            weather_array = climateData.loc[(climateData['City'] == station) & (climateData['Month/Year'] == date), ['Low', 'High', 'Rain']]\n",
    "            weather_array = weather_array.iloc[0]\n",
    "\n",
    "            # Add the image array and its corresponding label (which is always 1) to the appropriate list\n",
    "\n",
    "            images_fire.append(img_array)\n",
    "            weather_fire.append(weather_array)\n",
    "            labels_fire.append(1)\n",
    "            \n",
    "        except:\n",
    "            pass\n",
    "        \n",
    "        for i in range(2,4):\n",
    "            try:\n",
    "                date_string = fire.CreationDate[fire.FullFireNumber == spot].iloc[0]\n",
    "                datetime_obj = datetime.strptime(date_string, '%m/%d/%Y %I:%M:%S %p')\n",
    "                previous_month = datetime_obj - relativedelta(months=i)\n",
    "                date = previous_month.strftime('%B %Y') # Getting the date from the month before fire\n",
    "                lat = fire.Lat_DD[fire.FullFireNumber == spot].iloc[0]\n",
    "                long = fire.Long_DD[fire.FullFireNumber == spot].iloc[0]\n",
    "                station = closest_station(lat, long)\n",
    "\n",
    "                weather_array = climateData.loc[(climateData['City'] == station) & (climateData['Month/Year'] == date), ['Low', 'High', 'Rain']]\n",
    "                weather_array = weather_array.iloc[0]\n",
    "\n",
    "                # Add the image array and its corresponding label (which is always 1) to the appropriate list\n",
    "\n",
    "                images_fire.append(img_array)\n",
    "                weather_fire.append(weather_array)\n",
    "                labels_fire.append(0)\n",
    "\n",
    "            except:\n",
    "                pass\n",
    "            \n",
    "train_len = int(len(images_fire)*0.6)\n",
    "val_len = int(len(images_fire)*0.2+train_len)\n",
    "\n",
    "# Convert the lists to numpy arrays\n",
    "X_train_fire = np.array(images_fire[:train_len])\n",
    "y_train_fire = np.array(labels_fire[:train_len])\n",
    "X_val_fire = np.array(images_fire[train_len:val_len])\n",
    "y_val_fire = np.array(labels_fire[train_len:val_len])\n",
    "X_test_fire = np.array(images_fire[val_len:])\n",
    "y_test_fire = np.array(labels_fire[val_len:])\n",
    "\n",
    "X_weather_train_fire = np.array(weather_fire[:train_len]).astype(np.float32)\n",
    "X_weather_val_fire = np.array(weather_fire[train_len:val_len]).astype(np.float32)\n",
    "X_weather_test_fire = np.array(weather_fire[val_len:]).astype(np.float32)"
   ]
  },
  {
   "cell_type": "markdown",
   "id": "b04cf300",
   "metadata": {},
   "source": [
    "### No fire"
   ]
  },
  {
   "cell_type": "code",
   "execution_count": 8,
   "id": "99d05b3f",
   "metadata": {},
   "outputs": [
    {
     "data": {
      "text/html": [
       "<div>\n",
       "<style scoped>\n",
       "    .dataframe tbody tr th:only-of-type {\n",
       "        vertical-align: middle;\n",
       "    }\n",
       "\n",
       "    .dataframe tbody tr th {\n",
       "        vertical-align: top;\n",
       "    }\n",
       "\n",
       "    .dataframe thead th {\n",
       "        text-align: right;\n",
       "    }\n",
       "</style>\n",
       "<table border=\"1\" class=\"dataframe\">\n",
       "  <thead>\n",
       "    <tr style=\"text-align: right;\">\n",
       "      <th></th>\n",
       "      <th>Timestamp</th>\n",
       "      <th>Coordinates</th>\n",
       "      <th>ID Number</th>\n",
       "      <th>3months</th>\n",
       "      <th>Lat</th>\n",
       "      <th>Long</th>\n",
       "    </tr>\n",
       "  </thead>\n",
       "  <tbody>\n",
       "    <tr>\n",
       "      <th>0</th>\n",
       "      <td>2021-10-19</td>\n",
       "      <td>[43.270015266917845, -120.99866857931747]</td>\n",
       "      <td>764939464.0</td>\n",
       "      <td>2021-07-19</td>\n",
       "      <td>[43.270015266917845</td>\n",
       "      <td>-120.99866857931747]</td>\n",
       "    </tr>\n",
       "    <tr>\n",
       "      <th>1</th>\n",
       "      <td>2021-07-18</td>\n",
       "      <td>[43.825736085970476, -119.6874162899144]</td>\n",
       "      <td>496131171.0</td>\n",
       "      <td>2021-04-18</td>\n",
       "      <td>[43.825736085970476</td>\n",
       "      <td>-119.6874162899144]</td>\n",
       "    </tr>\n",
       "    <tr>\n",
       "      <th>2</th>\n",
       "      <td>2017-11-23</td>\n",
       "      <td>[42.08289588076026, -118.72530304625641]</td>\n",
       "      <td>981289671.0</td>\n",
       "      <td>2017-08-23</td>\n",
       "      <td>[42.08289588076026</td>\n",
       "      <td>-118.72530304625641]</td>\n",
       "    </tr>\n",
       "    <tr>\n",
       "      <th>3</th>\n",
       "      <td>2017-10-17</td>\n",
       "      <td>[43.562008167727406, -120.7898484171608]</td>\n",
       "      <td>733336443.0</td>\n",
       "      <td>2017-07-17</td>\n",
       "      <td>[43.562008167727406</td>\n",
       "      <td>-120.7898484171608]</td>\n",
       "    </tr>\n",
       "    <tr>\n",
       "      <th>4</th>\n",
       "      <td>2021-10-10</td>\n",
       "      <td>[42.54594266358967, -117.11395609618201]</td>\n",
       "      <td>627367907.0</td>\n",
       "      <td>2021-07-10</td>\n",
       "      <td>[42.54594266358967</td>\n",
       "      <td>-117.11395609618201]</td>\n",
       "    </tr>\n",
       "    <tr>\n",
       "      <th>...</th>\n",
       "      <td>...</td>\n",
       "      <td>...</td>\n",
       "      <td>...</td>\n",
       "      <td>...</td>\n",
       "      <td>...</td>\n",
       "      <td>...</td>\n",
       "    </tr>\n",
       "    <tr>\n",
       "      <th>16996</th>\n",
       "      <td>2021-07-11</td>\n",
       "      <td>[44.40690426298669, -119.46586904573716]</td>\n",
       "      <td>109687911.0</td>\n",
       "      <td>2021-04-11</td>\n",
       "      <td>[44.40690426298669</td>\n",
       "      <td>-119.46586904573716]</td>\n",
       "    </tr>\n",
       "    <tr>\n",
       "      <th>16997</th>\n",
       "      <td>2020-11-25</td>\n",
       "      <td>[45.40489909661745, -117.17554385743571]</td>\n",
       "      <td>436713213.0</td>\n",
       "      <td>2020-08-25</td>\n",
       "      <td>[45.40489909661745</td>\n",
       "      <td>-117.17554385743571]</td>\n",
       "    </tr>\n",
       "    <tr>\n",
       "      <th>16998</th>\n",
       "      <td>2018-10-01</td>\n",
       "      <td>[42.76374037965357, -123.02278642727217]</td>\n",
       "      <td>812993126.0</td>\n",
       "      <td>2018-07-01</td>\n",
       "      <td>[42.76374037965357</td>\n",
       "      <td>-123.02278642727217]</td>\n",
       "    </tr>\n",
       "    <tr>\n",
       "      <th>16999</th>\n",
       "      <td>2019-11-16</td>\n",
       "      <td>[42.64978782846754, -122.79984388563531]</td>\n",
       "      <td>687038889.0</td>\n",
       "      <td>2019-08-16</td>\n",
       "      <td>[42.64978782846754</td>\n",
       "      <td>-122.79984388563531]</td>\n",
       "    </tr>\n",
       "    <tr>\n",
       "      <th>17000</th>\n",
       "      <td>2020-11-11</td>\n",
       "      <td>[43.6913325232025, -124.10508590771335]</td>\n",
       "      <td>336820100.0</td>\n",
       "      <td>2020-08-11</td>\n",
       "      <td>[43.6913325232025</td>\n",
       "      <td>-124.10508590771335]</td>\n",
       "    </tr>\n",
       "  </tbody>\n",
       "</table>\n",
       "<p>17001 rows × 6 columns</p>\n",
       "</div>"
      ],
      "text/plain": [
       "        Timestamp                                Coordinates    ID Number   \n",
       "0      2021-10-19  [43.270015266917845, -120.99866857931747]  764939464.0  \\\n",
       "1      2021-07-18   [43.825736085970476, -119.6874162899144]  496131171.0   \n",
       "2      2017-11-23   [42.08289588076026, -118.72530304625641]  981289671.0   \n",
       "3      2017-10-17   [43.562008167727406, -120.7898484171608]  733336443.0   \n",
       "4      2021-10-10   [42.54594266358967, -117.11395609618201]  627367907.0   \n",
       "...           ...                                        ...          ...   \n",
       "16996  2021-07-11   [44.40690426298669, -119.46586904573716]  109687911.0   \n",
       "16997  2020-11-25   [45.40489909661745, -117.17554385743571]  436713213.0   \n",
       "16998  2018-10-01   [42.76374037965357, -123.02278642727217]  812993126.0   \n",
       "16999  2019-11-16   [42.64978782846754, -122.79984388563531]  687038889.0   \n",
       "17000  2020-11-11    [43.6913325232025, -124.10508590771335]  336820100.0   \n",
       "\n",
       "          3months                  Lat                   Long  \n",
       "0      2021-07-19  [43.270015266917845   -120.99866857931747]  \n",
       "1      2021-04-18  [43.825736085970476    -119.6874162899144]  \n",
       "2      2017-08-23   [42.08289588076026   -118.72530304625641]  \n",
       "3      2017-07-17  [43.562008167727406    -120.7898484171608]  \n",
       "4      2021-07-10   [42.54594266358967   -117.11395609618201]  \n",
       "...           ...                  ...                    ...  \n",
       "16996  2021-04-11   [44.40690426298669   -119.46586904573716]  \n",
       "16997  2020-08-25   [45.40489909661745   -117.17554385743571]  \n",
       "16998  2018-07-01   [42.76374037965357   -123.02278642727217]  \n",
       "16999  2019-08-16   [42.64978782846754   -122.79984388563531]  \n",
       "17000  2020-08-11    [43.6913325232025   -124.10508590771335]  \n",
       "\n",
       "[17001 rows x 6 columns]"
      ]
     },
     "execution_count": 8,
     "metadata": {},
     "output_type": "execute_result"
    }
   ],
   "source": [
    "no_fire = pd.read_csv(\"https://raw.githubusercontent.com/meriams/ABA-project-/main/nofiredata.csv\")\n",
    "no_fire[['Lat', 'Long']] = no_fire['Coordinates'].str.split(',', expand=True)\n",
    "no_fire"
   ]
  },
  {
   "cell_type": "code",
   "execution_count": 9,
   "id": "630433d3",
   "metadata": {},
   "outputs": [],
   "source": [
    "folder_path_nofire = \"no_fire\"\n",
    "\n",
    "# Initialize lists to store the data\n",
    "# Initialize lists to store the data\n",
    "images_nofire = []\n",
    "labels_nofire = []\n",
    "weather_nofire = []\n",
    "\n",
    "\n",
    "# Loop through all the PNG files in the folder\n",
    "for filename in os.listdir(folder_path_nofire):\n",
    "    if filename.endswith('.png'):\n",
    "        spot = float(filename[:-4])\n",
    "        try:\n",
    "            img = f'{folder_path_nofire}/{filename}'\n",
    "            image = tf.keras.preprocessing.image.load_img(img, target_size=(224, 224))\n",
    "            img_array = tf.keras.preprocessing.image.img_to_array(image)\n",
    "            date_string = no_fire.Timestamp[no_fire['ID Number'] == spot].iloc[0]\n",
    "            datetime_obj = datetime.strptime(date_string, '%Y-%m-%d')\n",
    "            previous_month = datetime_obj - relativedelta(months=1)\n",
    "            date = previous_month.strftime('%B %Y') # Getting the date from the month before fire\n",
    "            lat = no_fire.Lat[no_fire['ID Number'] == spot].iloc[0]\n",
    "            lat = float(lat[1:])\n",
    "            long = no_fire.Long[no_fire['ID Number'] == spot].iloc[0]\n",
    "            long = float(long[:-1])\n",
    "            station = closest_station(lat, long)\n",
    "\n",
    "            weather_array = climateData.loc[(climateData['City'] == station) & (climateData['Month/Year'] == date), ['Low', 'High', 'Rain']]\n",
    "            weather_array = weather_array.iloc[0]\n",
    "            weather_array = [float(i) for i in weather_array]\n",
    "\n",
    "            # Add the image array and its corresponding label (which is always 1) to the appropriate list\n",
    "            images_nofire.append(img_array)\n",
    "            weather_nofire.append(weather_array)\n",
    "            labels_nofire.append(0)\n",
    "        except:\n",
    "            pass\n",
    "\n",
    "train_len = int(len(images_nofire)*0.6)\n",
    "val_len = int(len(images_nofire)*0.2+train_len)\n",
    "\n",
    "# Convert the lists to numpy arrays\n",
    "X_train_nofire = np.array(images_nofire[:train_len])\n",
    "y_train_nofire = np.array(labels_nofire[:train_len])\n",
    "X_val_nofire = np.array(images_nofire[train_len:val_len])\n",
    "y_val_nofire = np.array(labels_nofire[train_len:val_len])\n",
    "X_test_nofire = np.array(images_nofire[val_len:])\n",
    "y_test_nofire = np.array(labels_nofire[val_len:])\n",
    "\n",
    "X_weather_train_nofire = np.array(weather_nofire[:train_len]).astype(np.float32)\n",
    "X_weather_val_nofire = np.array(weather_nofire[train_len:val_len]).astype(np.float32)\n",
    "X_weather_test_nofire = np.array(weather_nofire[val_len:]).astype(np.float32)"
   ]
  },
  {
   "cell_type": "markdown",
   "id": "aa218638",
   "metadata": {},
   "source": [
    "The different arrays can afterwards be concated to a train, validation and test set for the satellite photos, weather data and the labels."
   ]
  },
  {
   "cell_type": "code",
   "execution_count": 10,
   "id": "1ebe8f8c",
   "metadata": {},
   "outputs": [],
   "source": [
    "X_train = np.concatenate((X_train_fire, X_train_nofire))\n",
    "Y_train = np.concatenate((X_weather_train_fire, X_weather_train_nofire))\n",
    "z_train = np.concatenate((y_train_fire, y_train_nofire))\n",
    "\n",
    "X_val = np.concatenate((X_val_fire, X_val_nofire))\n",
    "Y_val = np.concatenate((X_weather_val_fire, X_weather_val_nofire))\n",
    "z_val = np.concatenate((y_val_fire, y_val_nofire))\n",
    "\n",
    "X_test = np.concatenate((X_test_fire, X_test_nofire))\n",
    "Y_test = np.concatenate((X_weather_test_fire, X_weather_test_nofire))\n",
    "z_test = np.concatenate((y_test_fire, y_test_nofire))"
   ]
  },
  {
   "cell_type": "markdown",
   "id": "394edbcc",
   "metadata": {},
   "source": [
    "## Model building"
   ]
  },
  {
   "cell_type": "markdown",
   "id": "d7b670bd",
   "metadata": {},
   "source": [
    "Next the model can be build using the ResNew50 model on one side to analyze the satelitte photos as it had the best performance. A smaller RNN network is used to model the weather data before it is combined in one hidden layer and then predicting the risk"
   ]
  },
  {
   "cell_type": "code",
   "execution_count": 11,
   "id": "1a3f8a94",
   "metadata": {},
   "outputs": [
    {
     "name": "stdout",
     "output_type": "stream",
     "text": [
      "Metal device set to: Apple M1\n"
     ]
    }
   ],
   "source": [
    "import tensorflow as tf\n",
    "from tensorflow import keras\n",
    "from tensorflow.keras.applications.resnet50 import ResNet50\n",
    "from tensorflow.keras.layers import Input, Dense\n",
    "\n",
    "# Load the ResNet50 model\n",
    "resnet_model = ResNet50(weights='imagenet', include_top=False)\n",
    "\n",
    "# Freeze ResNet50 layers\n",
    "for layer in resnet_model.layers:\n",
    "    layer.trainable = False\n",
    "\n",
    "# Define the input tensor for the model\n",
    "input_tensor1 = Input(shape=(224, 224, 3))\n",
    "\n",
    "x = resnet_model(input_tensor1)\n",
    "x = Flatten()(x)\n",
    "x = Dense(130, activation='relu')(x)\n",
    "x = keras.models.Model(inputs=input_tensor1, outputs=x)\n",
    "\n",
    "\n",
    "input_tensor2 = Input(shape=(3))\n",
    "\n",
    "y = Dense(22, activation='relu')(input_tensor2)\n",
    "y = Dense(33, activation='relu')(y)\n",
    "y = keras.models.Model(inputs=input_tensor2, outputs=y)\n",
    "\n",
    "combined = tf.keras.layers.concatenate([x.output, y.output])\n",
    "\n",
    "z = Dense(60, activation=\"relu\")(combined)\n",
    "z = Dense(1, activation=\"sigmoid\")(z)\n",
    "\n",
    "model = keras.models.Model(inputs=[x.input, y.input], outputs=z)\n",
    "\n",
    "# Compile the combined model\n",
    "model.compile(loss='binary_crossentropy', optimizer='adam', metrics=['accuracy'])"
   ]
  },
  {
   "cell_type": "code",
   "execution_count": 12,
   "id": "adcfbdae",
   "metadata": {},
   "outputs": [
    {
     "name": "stdout",
     "output_type": "stream",
     "text": [
      "Epoch 1/15\n"
     ]
    },
    {
     "name": "stderr",
     "output_type": "stream",
     "text": [
      "2023-04-25 01:01:39.407908: W tensorflow/tsl/platform/profile_utils/cpu_utils.cc:128] Failed to get CPU frequency: 0 Hz\n"
     ]
    },
    {
     "name": "stdout",
     "output_type": "stream",
     "text": [
      "102/102 [==============================] - 61s 560ms/step - loss: 1.3798 - accuracy: 0.6312 - val_loss: 0.6135 - val_accuracy: 0.6854\n",
      "Epoch 2/15\n",
      "102/102 [==============================] - 59s 575ms/step - loss: 0.7390 - accuracy: 0.6824 - val_loss: 0.5303 - val_accuracy: 0.7553\n",
      "Epoch 3/15\n",
      "102/102 [==============================] - 57s 560ms/step - loss: 0.6040 - accuracy: 0.7265 - val_loss: 0.5267 - val_accuracy: 0.7571\n",
      "Epoch 4/15\n",
      "102/102 [==============================] - 57s 557ms/step - loss: 0.5930 - accuracy: 0.7075 - val_loss: 0.5267 - val_accuracy: 0.7617\n",
      "Epoch 5/15\n",
      "102/102 [==============================] - 58s 565ms/step - loss: 0.5747 - accuracy: 0.7229 - val_loss: 0.5361 - val_accuracy: 0.7580\n",
      "Epoch 6/15\n",
      "102/102 [==============================] - 64s 628ms/step - loss: 0.5561 - accuracy: 0.7244 - val_loss: 0.5324 - val_accuracy: 0.7553\n",
      "Epoch 7/15\n",
      "102/102 [==============================] - 58s 573ms/step - loss: 0.5658 - accuracy: 0.7272 - val_loss: 0.5627 - val_accuracy: 0.7580\n",
      "Epoch 8/15\n",
      "102/102 [==============================] - 64s 626ms/step - loss: 0.5708 - accuracy: 0.7192 - val_loss: 0.6474 - val_accuracy: 0.7562\n",
      "Epoch 9/15\n",
      "102/102 [==============================] - 62s 605ms/step - loss: 0.5604 - accuracy: 0.7167 - val_loss: 0.5422 - val_accuracy: 0.7240\n",
      "Epoch 10/15\n",
      "102/102 [==============================] - 58s 568ms/step - loss: 0.5433 - accuracy: 0.7367 - val_loss: 0.5343 - val_accuracy: 0.7534\n",
      "Epoch 11/15\n",
      "102/102 [==============================] - 56s 548ms/step - loss: 0.5462 - accuracy: 0.7348 - val_loss: 0.5568 - val_accuracy: 0.7314\n",
      "Epoch 12/15\n",
      "102/102 [==============================] - 55s 544ms/step - loss: 0.5150 - accuracy: 0.7480 - val_loss: 0.5240 - val_accuracy: 0.7580\n",
      "Epoch 13/15\n",
      "102/102 [==============================] - 56s 547ms/step - loss: 0.4928 - accuracy: 0.7578 - val_loss: 0.5194 - val_accuracy: 0.7580\n",
      "Epoch 14/15\n",
      "102/102 [==============================] - 58s 569ms/step - loss: 0.4859 - accuracy: 0.7544 - val_loss: 0.5614 - val_accuracy: 0.6845\n",
      "Epoch 15/15\n",
      "102/102 [==============================] - 56s 554ms/step - loss: 0.4852 - accuracy: 0.7520 - val_loss: 0.5392 - val_accuracy: 0.7534\n"
     ]
    }
   ],
   "source": [
    "combined_history  = model.fit([X_train, Y_train], z_train, batch_size=32, epochs=15, validation_data = ([X_val, Y_val], z_val))"
   ]
  },
  {
   "cell_type": "code",
   "execution_count": 13,
   "id": "32be3ef8",
   "metadata": {},
   "outputs": [
    {
     "name": "stdout",
     "output_type": "stream",
     "text": [
      "35/35 [==============================] - 15s 413ms/step - loss: 0.5146 - accuracy: 0.7541\n",
      "Test accuracy: 0.7541284561157227\n"
     ]
    }
   ],
   "source": [
    "loss, accuracy = model.evaluate([X_test, Y_test], z_test)\n",
    "print('Test accuracy:', accuracy)"
   ]
  },
  {
   "cell_type": "code",
   "execution_count": 14,
   "id": "fdadc907",
   "metadata": {},
   "outputs": [
    {
     "name": "stdout",
     "output_type": "stream",
     "text": [
      "35/35 [==============================] - 15s 407ms/step\n"
     ]
    },
    {
     "data": {
      "image/png": "[encoded data removed]",
      "text/plain": [
       "<Figure size 640x480 with 1 Axes>"
      ]
     },
     "metadata": {},
     "output_type": "display_data"
    }
   ],
   "source": [
    "z_pred = model.predict([X_test, Y_test])\n",
    "plt.hist(z_pred, bins=50)\n",
    "plt.xlabel('Predicted Probability')\n",
    "plt.ylabel('Frequency')\n",
    "plt.show()"
   ]
  },
  {
   "cell_type": "markdown",
   "id": "114a5046",
   "metadata": {},
   "source": [
    "# Partial conclussion"
   ]
  },
  {
   "cell_type": "markdown",
   "id": "37fdb7ef",
   "metadata": {},
   "source": [
    "The model is skewed towards 0 beacause of the added data, but this new model also has some difference in how it predict. The predictions is lower in value, which was the expected as there is more uncertainty in the risk for the next month than there is for half a year. The models is therefore also expected to have a lower accuracy.\n",
    "\n",
    "The models shows a fairly well accuracy and has value in that it's very useful in being able to identify what areas  has a close to 0% chance of wildfire, while a lot areas can be predicted to 30-40% and some areas at even higher risk for the next month. The prediction method is therefore another effective tool and can help agencies help to allocate resources in the short term."
   ]
  },
  {
   "cell_type": "code",
   "execution_count": null,
   "id": "765348b1",
   "metadata": {},
   "outputs": [],
   "source": []
  }
 ],
 "metadata": {
  "accelerator": "TPU",
  "colab": {
   "provenance": []
  },
  "gpuClass": "standard",
  "kernelspec": {
   "display_name": "Python 3.10 (tensorflow)",
   "language": "python",
   "name": "tensorflow"
  },
  "language_info": {
   "codemirror_mode": {
    "name": "ipython",
    "version": 3
   },
   "file_extension": ".py",
   "mimetype": "text/x-python",
   "name": "python",
   "nbconvert_exporter": "python",
   "pygments_lexer": "ipython3",
   "version": "3.10.10"
  }
 },
 "nbformat": 4,
 "nbformat_minor": 5
}
